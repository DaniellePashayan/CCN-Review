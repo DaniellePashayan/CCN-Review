{
 "cells": [
  {
   "cell_type": "code",
   "execution_count": 95,
   "metadata": {},
   "outputs": [],
   "source": [
    "from datetime import datetime, timedelta\n",
    "import pandas as pd\n",
    "\n",
    "# Define the start and end dates for the year\n",
    "start_date = datetime(2023, 1, 1)\n",
    "end_date = datetime(2023, 12, 31)\n",
    "\n",
    "# Create an empty list to store the dates\n",
    "date_list = []\n",
    "date_list_str = []\n",
    "\n",
    "# Use a loop to generate dates within the specified range\n",
    "current_date = start_date\n",
    "while current_date <= end_date:\n",
    "    date_list.append(current_date) \n",
    "    date_list_str.append(current_date.strftime(\"%m/%d/%Y\")) \n",
    "    current_date += timedelta(days=1)\n",
    "\n",
    "# Create a DataFrame with the dates\n",
    "date_df = pd.DataFrame(date_list, columns=['DateTime'])\n",
    "date_df['Date'] = date_list_str\n",
    "\n"
   ]
  },
  {
   "cell_type": "code",
   "execution_count": 96,
   "metadata": {},
   "outputs": [],
   "source": [
    "# Add a column for the day of the week\n",
    "date_df['Day_of_Week'] = date_df['DateTime'].apply(lambda x: x.strftime('%A'))\n",
    "date_df['Day_of_Week_Index'] = date_df['DateTime'].dt.weekday\n",
    "\n",
    "def check_weekend(date):\n",
    "    day_of_week = date.weekday()\n",
    "    return day_of_week >= 0 and day_of_week <= 4\n",
    "\n",
    "date_df['Weekday?'] = date_df['DateTime'].apply(check_weekend)\n"
   ]
  },
  {
   "cell_type": "code",
   "execution_count": 97,
   "metadata": {},
   "outputs": [],
   "source": [
    "EOM = [\"01/31/2023\", \"02/28/2023\", \"03/31/2023\", \"04/30/2023\", \"05/31/2023\", \"06/30/2023\", \"07/31/2023\", \"08/31/2023\", \"09/30/2023\", \"10/31/2023\", \"11/30/2023\", \"12/31/2023\"]"
   ]
  },
  {
   "cell_type": "code",
   "execution_count": 98,
   "metadata": {},
   "outputs": [],
   "source": [
    "# Function to check if a date is in the EOM list\n",
    "def check_eom(date):\n",
    "    if date.strftime('%m/%d/%Y') in EOM:\n",
    "        return True\n",
    "    else:\n",
    "        return False\n",
    "    \n",
    "def eom_weekend(date):\n",
    "    if date.weekday() >=5:\n",
    "        \n",
    "\n",
    "# Apply the check_eom function to each row in the DataFrame and create a new 'EOM?' column\n",
    "date_df['EOM?'] = date_df['DateTime'].apply(check_eom)"
   ]
  },
  {
   "cell_type": "code",
   "execution_count": 99,
   "metadata": {},
   "outputs": [],
   "source": [
    "HOLIDAYS = [\"01/17/2023\", \"02/21/2023\", \"05/30/2023\", \"07/05/2023\", \"09/05/2023\", \"11/24/2023\", \"12/26/2023\", \"01/02/2024\"]"
   ]
  },
  {
   "cell_type": "code",
   "execution_count": 100,
   "metadata": {},
   "outputs": [],
   "source": [
    "# Function to check if a date is the day after a Holiday\n",
    "def check_day_after_hol(date):\n",
    "    if date.strftime('%m/%d/%Y') in HOLIDAYS:\n",
    "        return True\n",
    "    else:\n",
    "        return False\n",
    "    \n",
    "\n",
    "# Apply the check_day_after_hol function to each row in the DataFrame and create a new 'Holiday?' column\n",
    "date_df['Holiday?'] = date_df['DateTime'].apply(check_day_after_hol)"
   ]
  },
  {
   "cell_type": "code",
   "execution_count": null,
   "metadata": {},
   "outputs": [],
   "source": [
    "# Function to determine the File Date based on EOM, Holiday and/or Weekend\n",
    "\n",
    "def determine_file_date(date):\n",
    "    file_date = date + timedelta(days=1)\n",
    "    print(date)\n",
    "    print(file_date)\n",
    "    flag = False\n",
    "    while not flag:\n",
    "        fd_dow = date_df.loc[date_df['DateTime'] == file_date, 'Weekday?']\n",
    "        # print(fd_dow)\n",
    "        fd_holiday = date_df.loc[date_df['DateTime'] == file_date, 'Holiday?']\n",
    "        # print(fd_holiday)\n",
    "        fd_eom = date_df.loc[date_df['DateTime'] == file_date, 'EOM?']\n",
    "        # print(fd_eom)\n",
    "        # Check the conditions\n",
    "        if fd_dow.all() and not fd_holiday.any() and not fd_eom.any():\n",
    "            return file_date  # Conditions met, return the file_date\n",
    "        \n",
    "        # Conditions not met, add 1 day to file_date and continue\n",
    "        file_date += timedelta(days=1)\n",
    "        print(file_date)  # For debugging purposes, to see how the loop progresses\n",
    "\n",
    "date_df['File Date'] = date_df['DateTime'].apply(determine_file_date)"
   ]
  },
  {
   "cell_type": "code",
   "execution_count": null,
   "metadata": {},
   "outputs": [],
   "source": [
    "# After Cutoff Function to determine the File Date based on EOM, Holiday and/or Weekend \n",
    "\n",
    "def determine_file_date(date):\n",
    "    if date.weekday() == 4:\n",
    "        file_date = date + timedelta(days=4)\n",
    "    else:\n",
    "        file_date = date + timedelta(days=2)\n",
    "    print(date)\n",
    "    print(file_date)\n",
    "    flag = False\n",
    "    while not flag:\n",
    "        fd_dow = date_df.loc[date_df['DateTime'] == file_date, 'Weekday?']\n",
    "        # print(fd_dow)\n",
    "        fd_holiday = date_df.loc[date_df['DateTime'] == file_date, 'Holiday?']\n",
    "        # print(fd_holiday)\n",
    "        fd_eom = date_df.loc[date_df['DateTime'] == file_date, 'EOM?']\n",
    "        # print(fd_eom)\n",
    "        # Check the conditions\n",
    "        if fd_dow.all() and not fd_holiday.any() and not fd_eom.any():\n",
    "            return file_date  # Conditions met, return the file_date\n",
    "        \n",
    "        # Conditions not met, add 1 day to file_date and continue\n",
    "        file_date += timedelta(days=1)\n",
    "        print(file_date)  # For debugging purposes, to see how the loop progresses\n",
    "\n",
    "date_df['After Cutoff'] = date_df['DateTime'].apply(determine_file_date)"
   ]
  },
  {
   "cell_type": "code",
   "execution_count": 103,
   "metadata": {},
   "outputs": [],
   "source": [
    "date_df['Formatted FD'] = date_df['File Date'].apply(lambda x: x.strftime('%m/%d/%Y'))\n",
    "date_df['Formatted Cutoff'] = date_df['After Cutoff'].apply(lambda x: x.strftime('%m/%d/%Y'))\n",
    "columns_to_drop = ['DateTime', 'File Date', 'After Cutoff']\n",
    "date_df.drop(columns=columns_to_drop, inplace=True)\n",
    "\n",
    "date_df.to_csv(\"Dates.csv\")"
   ]
  }
 ],
 "metadata": {
  "kernelspec": {
   "display_name": "Python 3",
   "language": "python",
   "name": "python3"
  },
  "language_info": {
   "codemirror_mode": {
    "name": "ipython",
    "version": 3
   },
   "file_extension": ".py",
   "mimetype": "text/x-python",
   "name": "python",
   "nbconvert_exporter": "python",
   "pygments_lexer": "ipython3",
   "version": "3.11.1"
  },
  "orig_nbformat": 4
 },
 "nbformat": 4,
 "nbformat_minor": 2
}
