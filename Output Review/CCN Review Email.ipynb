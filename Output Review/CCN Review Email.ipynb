{
 "cells": [
  {
   "cell_type": "code",
   "execution_count": 1,
   "metadata": {},
   "outputs": [],
   "source": [
    "import pandas as pd\n",
    "import datetime as dt\n",
    "import win32com.client as win32\n",
    "\n",
    "FILE_PATH = 'M:/CPP-Data/Sutherland RPA/ChargeCorrection'\n",
    "\n",
    "today = dt.date.today()\n",
    "file_date = today - dt.timedelta(days=1)\n",
    "fd_mmddyyyy = file_date.strftime('%m%d%Y')\n",
    "fd_mm_yyyy = file_date.strftime('%m %Y')\n",
    "file_year = file_date.strftime('%Y')\n",
    "fd_mm_dd = file_date.strftime('%m/%d')\n",
    "\n",
    "file_to_review = f'{FILE_PATH}/{file_year}/{fd_mm_yyyy}/{fd_mmddyyyy}/DP Comments Template.xlsx'\n",
    "\n",
    "df_email = pd.read_excel(file_to_review, sheet_name=\"Sheet3\", engine=\"openpyxl\")"
   ]
  },
  {
   "cell_type": "code",
   "execution_count": 2,
   "metadata": {},
   "outputs": [
    {
     "name": "stdout",
     "output_type": "stream",
     "text": [
      "No user found with alias or display name 'Harris, Brittney A'\n"
     ]
    }
   ],
   "source": [
    "user_list = []\n",
    "email_list = []\n",
    "for rep in df_email['Rep Name'].unique():\n",
    "    user_list.append(rep)\n",
    "\n",
    "# Create an instance of the Outlook application\n",
    "outlook = win32.Dispatch(\"Outlook.Application\")\n",
    "\n",
    "# Get the MAPI namespace of the Outlook application\n",
    "namespace = outlook.GetNamespace(\"MAPI\")\n",
    "\n",
    "# Iterate through the user list and retrieve the email address for each user\n",
    "for user in user_list:\n",
    "    # Search for the user in the Outlook address book\n",
    "    recipient = namespace.CreateRecipient(user)\n",
    "    recipient.Resolve()\n",
    "    if recipient.Resolved:\n",
    "        # Retrieve the user's email address from the resolved recipient object\n",
    "        email_address = recipient.AddressEntry.GetExchangeUser().PrimarySmtpAddress\n",
    "        email_list.append(email_address)\n",
    "    else:\n",
    "        # open the file in write mode and write the output to it\n",
    "        with open(output_path, 'w') as f:\n",
    "            f.write(f\"No user found with alias or display name '{user}'\")                \n",
    "        # open the file for reading and print its contents to the console\n",
    "        with open(output_path, 'r') as f:\n",
    "            print(f.read())"
   ]
  },
  {
   "cell_type": "code",
   "execution_count": 4,
   "metadata": {},
   "outputs": [],
   "source": [
    "# Create an instance of the Outlook application\n",
    "outlook = win32.Dispatch(\"Outlook.Application\")\n",
    "\n",
    "# Create a new email message\n",
    "mail = outlook.CreateItem(0)\n",
    "\n",
    "mail.Subject = f\"The {fd_mm_dd} CCN output file is ready for review.\"\n",
    "mail.Body = \"\"\n",
    "\n",
    "# Set the To: field of the email message\n",
    "for email_address in email_list:\n",
    "    mail.Recipients.Add(email_address)\n",
    "\n",
    "# Set the CC: field of the email message\n",
    "cc_list = [\"dpashayan@northwell.edu\", \"vlombardi2@northwell.edu\", \"rjohnson16@northwell.edu\", \"alang@northwell.edu\", \"jmullen3@northwell.edu\", \"AR Supervisors\"]\n",
    "for distribution_list in cc_list:\n",
    "    recipient = mail.Recipients.Add(distribution_list)\n",
    "    recipient.Type = 2    \n",
    "\n",
    "# Display the email message (leave it open for editing)\n",
    "mail.Display(False)"
   ]
  }
 ],
 "metadata": {
  "kernelspec": {
   "display_name": "Python 3",
   "language": "python",
   "name": "python3"
  },
  "language_info": {
   "codemirror_mode": {
    "name": "ipython",
    "version": 3
   },
   "file_extension": ".py",
   "mimetype": "text/x-python",
   "name": "python",
   "nbconvert_exporter": "python",
   "pygments_lexer": "ipython3",
   "version": "3.11.1"
  },
  "orig_nbformat": 4
 },
 "nbformat": 4,
 "nbformat_minor": 2
}
