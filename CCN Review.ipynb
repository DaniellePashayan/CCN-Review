{
 "cells": [
  {
   "cell_type": "code",
   "execution_count": 19,
   "metadata": {},
   "outputs": [],
   "source": [
    "import datetime as dt\n",
    "import os\n",
    "import win32com.client as win32\n",
    "import pandas as pd\n",
    "\n",
    "\n",
    "FILE_PATH = 'M:/CPP-Data/Sutherland RPA/ChargeCorrection'\n",
    "CROSSWALK_FILE = 'M:/CPP-Data/Sutherland RPA/Northwell Process Automation ETM Files/Monthly Reports/Charge Correction/References/RetrievalDescriptionCrosswalk.csv'\n",
    "\n",
    "today = dt.date.today()\n",
    "file_date = today - dt.timedelta(days=2)\n",
    "fd_mmddyyyy = file_date.strftime('%m%d%Y')\n",
    "fd_mm_yyyy = file_date.strftime('%m %Y')\n",
    "file_year = file_date.strftime('%Y')\n",
    "fd_mm_dd = file_date.strftime('%m/%d')"
   ]
  },
  {
   "cell_type": "code",
   "execution_count": 2,
   "metadata": {},
   "outputs": [],
   "source": [
    "file_to_review = f'{FILE_PATH}/{file_year}/{fd_mm_yyyy}/{fd_mmddyyyy}/DP Comments Template.xlsx'\n",
    "output_file = f'{FILE_PATH}/{file_year}/{fd_mm_yyyy}/{fd_mmddyyyy}/Northwell_ChargeCorrection_Output_{fd_mmddyyyy}.xls'\n",
    "ccn_checker = f'{FILE_PATH}/{file_year}/{fd_mm_yyyy}/{fd_mmddyyyy}/CCN Output Checker.xlsb'\n",
    "rep_submission_file = f'M:/CPP-Data/Sutherland RPA/Northwell Process Automation ETM Files/Monthly Reports/Charge Correction/Inputs/{file_year}/{fd_mm_yyyy} Inputs.xlsx'"
   ]
  },
  {
   "cell_type": "code",
   "execution_count": 3,
   "metadata": {},
   "outputs": [],
   "source": [
    "df_dp_export = pd.read_excel(file_to_review, sheet_name=\"export\", engine=\"openpyxl\")\n",
    "df_cross = pd.read_csv(CROSSWALK_FILE)\n",
    "df_output = pd.read_excel(output_file, sheet_name=\"export\", engine=\"xlrd\")\n",
    "df_output = df_output[['INVNUM', 'PAYER', 'CRN#', 'InvBal', 'CPT', 'RevisedCPTList', 'InvoiceDOS', 'OriginalLocation', 'NewLocation', 'OriginalDX','NewDX', 'DxPointers', 'OriginalModifier', 'NewModifier', 'TXN', 'ActionAddRemoveReplace', 'StatusID', 'RetrievalStatus', 'RetrievalDescription']]\n",
    "df_rep_list = pd.read_excel(rep_submission_file, sheet_name=\"Sheet1\", engine=\"openpyxl\")"
   ]
  },
  {
   "cell_type": "code",
   "execution_count": 4,
   "metadata": {},
   "outputs": [],
   "source": [
    "df_dp_export_final = pd.DataFrame(columns=df_dp_export.columns)\n",
    "df_dp_export_final = pd.concat([df_dp_export, df_output], ignore_index=True)\n",
    "df_output = pd.merge(df_output,df_cross, on=\"RetrievalDescription\", how=\"left\")\n",
    "df_rep_list = df_rep_list.rename(columns={'Invoice': 'INVNUM'})\n",
    "df_output= pd.merge(df_output,df_rep_list[['INVNUM','Rep Name','Supervisor','Department']],on='INVNUM',how='left')\n",
    "df_output.fillna(value=\"\", inplace=True)"
   ]
  },
  {
   "cell_type": "code",
   "execution_count": 5,
   "metadata": {},
   "outputs": [],
   "source": [
    "with pd.ExcelWriter(file_to_review) as writer:\n",
    "    df_dp_export_final.to_excel(writer, sheet_name=\"export\", engine=\"openpyxl\", index=False)\n",
    "    df_output.to_excel(writer, sheet_name=\"Sheet1\", engine=\"openpyxl\", index=False)"
   ]
  }
 ],
 "metadata": {
  "kernelspec": {
   "display_name": "Python 3",
   "language": "python",
   "name": "python3"
  },
  "language_info": {
   "codemirror_mode": {
    "name": "ipython",
    "version": 3
   },
   "file_extension": ".py",
   "mimetype": "text/x-python",
   "name": "python",
   "nbconvert_exporter": "python",
   "pygments_lexer": "ipython3",
   "version": "3.11.1"
  },
  "orig_nbformat": 4
 },
 "nbformat": 4,
 "nbformat_minor": 2
}
